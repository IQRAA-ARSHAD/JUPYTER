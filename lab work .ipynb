{
 "cells": [
  {
   "cell_type": "code",
   "execution_count": 1,
   "id": "7a2f3d66",
   "metadata": {},
   "outputs": [
    {
     "name": "stdout",
     "output_type": "stream",
     "text": [
      "<class 'bool'>\n",
      "True\n",
      "False\n",
      "False\n",
      "False\n",
      "True\n",
      "False\n",
      "True\n"
     ]
    }
   ],
   "source": [
    "a = True       #assign true value to vaiable a\n",
    "b = False       #assign false value to vaiable b\n",
    "print(type(a))   # print type of a \n",
    "print (a and a)   # and condition return true if both condition is true so its return true if a is true\n",
    "print (a and b)   # return true if both a and b is true\n",
    "print (b and a)   #return true if both and b is true\n",
    "print (b and a)  #return true if both a and b is true\n",
    "print ( a or b)   #or condition return true if any condition is true and return false if both conditions are false\n",
    "print (not a)     #reverse the result of condition\n",
    "print (a != b)    #return true if value on left is not equal to right"
   ]
  },
  {
   "cell_type": "code",
   "execution_count": 8,
   "id": "4e6a9cec",
   "metadata": {},
   "outputs": [
    {
     "name": "stdout",
     "output_type": "stream",
     "text": [
      "<class 'str'>\n",
      "True\n",
      "False\n",
      "True\n",
      "True\n",
      "True\n",
      "False\n",
      "True\n"
     ]
    }
   ],
   "source": [
    "a = \"True\"     # string type of a and b\n",
    "b = \"False\"\n",
    "print(type(a))\n",
    "print (a and a)\n",
    "print (a and b)\n",
    "print (b and a)\n",
    "print (b and a)\n",
    "print ( a or b)\n",
    "print (not a)\n",
    "print (a != b)"
   ]
  },
  {
   "cell_type": "code",
   "execution_count": 35,
   "id": "0b7b7249",
   "metadata": {},
   "outputs": [
    {
     "name": "stdout",
     "output_type": "stream",
     "text": [
      "<class 'int'>\n",
      "0\n",
      "1\n",
      "1\n",
      "1\n",
      "False\n",
      "True\n",
      "True\n"
     ]
    }
   ],
   "source": [
    "t = 1      # type of variable t,f,g is integer 1 represent ture and 0 represent false\n",
    "f = 0\n",
    "g = 1\n",
    "print(type(t))\n",
    "c = t and f and g    # assign truth value of  t and f and g to c\n",
    "print(c)\n",
    "m = t or g or f\n",
    "print(m)\n",
    "v = t and f or g\n",
    "print(v)\n",
    "u = t or f and g\n",
    "print(u)\n",
    "l=t!=g             # assign truth value of  t!= g to l\n",
    "print(l)\n",
    "k=t!=f\n",
    "print(k)\n",
    "print(not c)"
   ]
  },
  {
   "cell_type": "code",
   "execution_count": 41,
   "id": "f02b1b9e",
   "metadata": {},
   "outputs": [
    {
     "name": "stdout",
     "output_type": "stream",
     "text": [
      "[0, 1, 2, 3, 4]\n",
      "[2, 3]\n",
      "[2, 3, 4]\n",
      "[0, 1]\n",
      "[0, 1, 2, 3, 4]\n",
      "[0, 1, 2, 3]\n",
      "[0, 8, 9, 2, 3, 4]\n",
      "[0, 8, 8, 9, 10, 3, 4]\n"
     ]
    }
   ],
   "source": [
    "nums = list(range(5)) # defining array of 5 elements (0 to 4)\n",
    "print(nums)\n",
    "print(nums [2:4])     # slicing array from 2 to 4\n",
    "print(nums[2:])       #  elemet of array after 2\n",
    "print(nums[:2])        #  elemet of array before 2\n",
    "print(nums[:])        # all element of array \n",
    "print(nums[:-1])    # length of array decrease by 1 from last\n",
    "nums[1:2] = [8,9]    # adjust 8,9 between 1:2   or defining new array from previous\n",
    "print(nums)\n",
    "nums[2:4] = [8,9,10]   \n",
    "print(nums)\n"
   ]
  },
  {
   "cell_type": "code",
   "execution_count": 34,
   "id": "193c4702",
   "metadata": {},
   "outputs": [
    {
     "name": "stdout",
     "output_type": "stream",
     "text": [
      "[0.         0.55555556 1.11111111 1.66666667 2.22222222 2.77777778\n",
      " 3.33333333 3.88888889 4.44444444 5.        ]\n",
      "[0.         0.55555556 1.11111111 1.66666667 2.22222222 2.77777778\n",
      " 3.33333333 3.88888889 4.44444444 5.        ]\n",
      "[]\n",
      "[0.         0.55555556 1.11111111 1.66666667]\n",
      "[0.         0.55555556 1.11111111 1.66666667 2.22222222 2.77777778\n",
      " 3.33333333 3.88888889 4.44444444 5.        ]\n",
      "[0.         0.55555556 1.11111111 1.66666667 2.22222222 2.77777778]\n"
     ]
    }
   ],
   "source": [
    "import numpy as np\n",
    "nums=np.linspace(0,5,10)\n",
    "print(nums)\n",
    "print(nums[0:])\n",
    "print(nums[:0])\n",
    "print(nums[:4])\n",
    "print(nums[:])\n",
    "print(nums[:-4])"
   ]
  },
  {
   "cell_type": "code",
   "execution_count": 43,
   "id": "5d8f50bd",
   "metadata": {},
   "outputs": [
    {
     "name": "stdout",
     "output_type": "stream",
     "text": [
      "[0 2 4]\n",
      "[0 2 4]\n",
      "[]\n",
      "[0 2 4]\n",
      "[0 2 4]\n",
      "[]\n",
      "[0 2]\n",
      "[2]\n",
      "[0 3 4]\n"
     ]
    },
    {
     "ename": "ValueError",
     "evalue": "could not broadcast input array from shape (3,) into shape (2,)",
     "output_type": "error",
     "traceback": [
      "\u001b[1;31m---------------------------------------------------------------------------\u001b[0m",
      "\u001b[1;31mValueError\u001b[0m                                Traceback (most recent call last)",
      "\u001b[1;32m~\\AppData\\Local\\Temp/ipykernel_6628/3840337539.py\u001b[0m in \u001b[0;36m<module>\u001b[1;34m\u001b[0m\n\u001b[0;32m     10\u001b[0m \u001b[0mnums\u001b[0m\u001b[1;33m[\u001b[0m\u001b[1;36m1\u001b[0m\u001b[1;33m:\u001b[0m\u001b[1;36m3\u001b[0m\u001b[1;33m]\u001b[0m\u001b[1;33m=\u001b[0m\u001b[1;33m[\u001b[0m\u001b[1;36m3\u001b[0m\u001b[1;33m,\u001b[0m\u001b[1;36m4\u001b[0m\u001b[1;33m]\u001b[0m\u001b[1;33m\u001b[0m\u001b[1;33m\u001b[0m\u001b[0m\n\u001b[0;32m     11\u001b[0m \u001b[0mprint\u001b[0m\u001b[1;33m(\u001b[0m\u001b[0mnums\u001b[0m\u001b[1;33m)\u001b[0m\u001b[1;33m\u001b[0m\u001b[1;33m\u001b[0m\u001b[0m\n\u001b[1;32m---> 12\u001b[1;33m \u001b[0mnums\u001b[0m\u001b[1;33m[\u001b[0m\u001b[1;36m1\u001b[0m\u001b[1;33m:\u001b[0m\u001b[1;36m3\u001b[0m\u001b[1;33m]\u001b[0m\u001b[1;33m=\u001b[0m\u001b[1;33m[\u001b[0m\u001b[1;36m3\u001b[0m\u001b[1;33m,\u001b[0m\u001b[1;36m4\u001b[0m\u001b[1;33m,\u001b[0m\u001b[1;36m5\u001b[0m\u001b[1;33m]\u001b[0m\u001b[1;33m\u001b[0m\u001b[1;33m\u001b[0m\u001b[0m\n\u001b[0m",
      "\u001b[1;31mValueError\u001b[0m: could not broadcast input array from shape (3,) into shape (2,)"
     ]
    }
   ],
   "source": [
    "nums= np.arange(0,5,2)\n",
    "print(nums)\n",
    "print(nums[0:])\n",
    "print(nums[:0])\n",
    "print(nums[:4])\n",
    "print(nums[:])\n",
    "print(nums[:-4])\n",
    "print(nums[:-1])\n",
    "print(nums[1:2])\n",
    "nums[1:3]=[3,4]\n",
    "print(nums)\n",
    "nums[1:3]=[3,4,5]"
   ]
  },
  {
   "cell_type": "code",
   "execution_count": 1,
   "id": "3d4fe7e9",
   "metadata": {},
   "outputs": [
    {
     "name": "stdout",
     "output_type": "stream",
     "text": [
      "my name is iqra arshad\n"
     ]
    }
   ],
   "source": [
    "import numpy as np\n",
    "import matplotlib.pyplot as plt\n",
    "a=5       #intialization variable\n",
    "b=5\n",
    "if a==b :      # condition\n",
    "    print(\"my name is iqra arshad\")     # body of if statement "
   ]
  },
  {
   "cell_type": "code",
   "execution_count": 2,
   "id": "4006e122",
   "metadata": {},
   "outputs": [
    {
     "name": "stdout",
     "output_type": "stream",
     "text": [
      "0\n",
      "1\n",
      "2\n",
      "3\n"
     ]
    }
   ],
   "source": [
    "a=4\n",
    "if a==4:          # if condtion\n",
    "    for i in range(a):       # for loop in the body of if statement ; range(a) (a iteration = 0 t0 a-1 )\n",
    "        print(i)             # body of for loop"
   ]
  },
  {
   "cell_type": "code",
   "execution_count": 3,
   "id": "1a9f0b04",
   "metadata": {},
   "outputs": [
    {
     "name": "stdout",
     "output_type": "stream",
     "text": [
      "enter x1:5\n",
      "enter x2:0\n",
      "52.0\n",
      "2.0\n"
     ]
    }
   ],
   "source": [
    "x=5\n",
    "f= lambda x: 2*x**2+2       # in order to define the function we need to used keyword lambda \n",
    "f(x)\n",
    "x1 =float(input('enter x1:'))    # taking numbers from user whose data type is floating \n",
    "x2 =float(input('enter x2:'))\n",
    "print(f(x1))\n",
    "print(f(x2))"
   ]
  },
  {
   "cell_type": "code",
   "execution_count": null,
   "id": "de9f2dc3",
   "metadata": {},
   "outputs": [],
   "source": []
  }
 ],
 "metadata": {
  "kernelspec": {
   "display_name": "Python 3 (ipykernel)",
   "language": "python",
   "name": "python3"
  },
  "language_info": {
   "codemirror_mode": {
    "name": "ipython",
    "version": 3
   },
   "file_extension": ".py",
   "mimetype": "text/x-python",
   "name": "python",
   "nbconvert_exporter": "python",
   "pygments_lexer": "ipython3",
   "version": "3.9.7"
  }
 },
 "nbformat": 4,
 "nbformat_minor": 5
}
