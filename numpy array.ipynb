{
 "cells": [
  {
   "cell_type": "markdown",
   "id": "cbf1954a",
   "metadata": {},
   "source": [
    "# numpy arrays"
   ]
  },
  {
   "cell_type": "markdown",
   "id": "96f0b5fe",
   "metadata": {},
   "source": [
    "import numpy as np"
   ]
  },
  {
   "cell_type": "code",
   "execution_count": 3,
   "id": "bef3e9bf",
   "metadata": {},
   "outputs": [
    {
     "data": {
      "text/plain": [
       "array([1, 2, 3, 4])"
      ]
     },
     "execution_count": 3,
     "metadata": {},
     "output_type": "execute_result"
    }
   ],
   "source": [
    "np.array([1,2,3,4])\n"
   ]
  },
  {
   "cell_type": "code",
   "execution_count": 6,
   "id": "f5b22abd",
   "metadata": {},
   "outputs": [
    {
     "data": {
      "text/plain": [
       "array([1., 1., 1., 1., 1., 1., 1., 1., 1., 1., 1., 1., 1., 1., 1., 1., 1.,\n",
       "       1., 1., 1., 1., 1., 1., 1., 1., 1., 1., 1., 1., 1., 1., 1., 1., 1.,\n",
       "       1., 1., 1., 1., 1., 1., 1., 1., 1., 1., 1., 1., 1., 1., 1., 1., 1.,\n",
       "       1., 1., 1., 1., 1., 1., 1., 1., 1., 1., 1., 1., 1., 1., 1., 1., 1.,\n",
       "       1., 1., 1., 1., 1., 1., 1., 1., 1., 1., 1., 1., 1., 1., 1., 1., 1.,\n",
       "       1., 1., 1., 1., 1., 1., 1., 1., 1., 1., 1., 1., 1., 1., 1., 1.])"
      ]
     },
     "execution_count": 6,
     "metadata": {},
     "output_type": "execute_result"
    }
   ],
   "source": [
    "np.ones(101)     # built in function to define array of some array with same number "
   ]
  },
  {
   "cell_type": "code",
   "execution_count": 7,
   "id": "6023f15b",
   "metadata": {},
   "outputs": [
    {
     "data": {
      "text/plain": [
       "array([0., 0., 0., 0., 0., 0., 0., 0., 0., 0.])"
      ]
     },
     "execution_count": 7,
     "metadata": {},
     "output_type": "execute_result"
    }
   ],
   "source": [
    "np.zeros(10)"
   ]
  },
  {
   "cell_type": "code",
   "execution_count": 10,
   "id": "19b8b7f5",
   "metadata": {},
   "outputs": [
    {
     "data": {
      "text/plain": [
       "array([0, 1, 2, 3, 4, 5])"
      ]
     },
     "execution_count": 10,
     "metadata": {},
     "output_type": "execute_result"
    }
   ],
   "source": [
    "np.arange(6)     # a sequence start from zero and with six value exclsuive last one"
   ]
  },
  {
   "cell_type": "code",
   "execution_count": 11,
   "id": "db86d915",
   "metadata": {},
   "outputs": [
    {
     "data": {
      "text/plain": [
       "array([3, 4, 5])"
      ]
     },
     "execution_count": 11,
     "metadata": {},
     "output_type": "execute_result"
    }
   ],
   "source": [
    "np.arange(3,6)     # start and end value excluding last one"
   ]
  },
  {
   "cell_type": "code",
   "execution_count": 12,
   "id": "f6b11cfa",
   "metadata": {},
   "outputs": [
    {
     "data": {
      "text/plain": [
       "array([ 4,  7, 10])"
      ]
     },
     "execution_count": 12,
     "metadata": {},
     "output_type": "execute_result"
    }
   ],
   "source": [
    "np.arange(4,12,3)    # start and end value and 3 is step"
   ]
  },
  {
   "cell_type": "code",
   "execution_count": 16,
   "id": "57ae6382",
   "metadata": {},
   "outputs": [
    {
     "data": {
      "text/plain": [
       "array([4, 9])"
      ]
     },
     "execution_count": 16,
     "metadata": {},
     "output_type": "execute_result"
    }
   ],
   "source": [
    "np.arange(4,12,5)"
   ]
  },
  {
   "cell_type": "code",
   "execution_count": 13,
   "id": "38c74d2d",
   "metadata": {},
   "outputs": [
    {
     "data": {
      "text/plain": [
       "array([ 6.,  9., 12.])"
      ]
     },
     "execution_count": 13,
     "metadata": {},
     "output_type": "execute_result"
    }
   ],
   "source": [
    "np.linspace(6,12,3)    # array starting and ending value(exclusive) and with 3 element"
   ]
  },
  {
   "cell_type": "code",
   "execution_count": 15,
   "id": "51a8dd1d",
   "metadata": {},
   "outputs": [
    {
     "data": {
      "text/plain": [
       "array([6.])"
      ]
     },
     "execution_count": 15,
     "metadata": {},
     "output_type": "execute_result"
    }
   ],
   "source": [
    "np.linspace(6,12,1)"
   ]
  },
  {
   "cell_type": "code",
   "execution_count": 14,
   "id": "b7bb77e7",
   "metadata": {},
   "outputs": [
    {
     "data": {
      "text/plain": [
       "array([ 6.        ,  6.12244898,  6.24489796,  6.36734694,  6.48979592,\n",
       "        6.6122449 ,  6.73469388,  6.85714286,  6.97959184,  7.10204082,\n",
       "        7.2244898 ,  7.34693878,  7.46938776,  7.59183673,  7.71428571,\n",
       "        7.83673469,  7.95918367,  8.08163265,  8.20408163,  8.32653061,\n",
       "        8.44897959,  8.57142857,  8.69387755,  8.81632653,  8.93877551,\n",
       "        9.06122449,  9.18367347,  9.30612245,  9.42857143,  9.55102041,\n",
       "        9.67346939,  9.79591837,  9.91836735, 10.04081633, 10.16326531,\n",
       "       10.28571429, 10.40816327, 10.53061224, 10.65306122, 10.7755102 ,\n",
       "       10.89795918, 11.02040816, 11.14285714, 11.26530612, 11.3877551 ,\n",
       "       11.51020408, 11.63265306, 11.75510204, 11.87755102, 12.        ])"
      ]
     },
     "execution_count": 14,
     "metadata": {},
     "output_type": "execute_result"
    }
   ],
   "source": [
    "np.linspace(6,12)    # if we dont give number of element in linspace "
   ]
  },
  {
   "cell_type": "code",
   "execution_count": 18,
   "id": "794e5dbe",
   "metadata": {},
   "outputs": [
    {
     "data": {
      "text/plain": [
       "50"
      ]
     },
     "execution_count": 18,
     "metadata": {},
     "output_type": "execute_result"
    }
   ],
   "source": [
    "len(np.linspace(6,12)) "
   ]
  },
  {
   "cell_type": "markdown",
   "id": "c9c3b59e",
   "metadata": {},
   "source": [
    "# array operation"
   ]
  },
  {
   "cell_type": "code",
   "execution_count": 19,
   "id": "58dcc2c8",
   "metadata": {},
   "outputs": [
    {
     "name": "stdout",
     "output_type": "stream",
     "text": [
      "[-10.          -8.33333333  -6.66666667  -5.          -3.33333333\n",
      "  -1.66666667   0.           1.66666667   3.33333333   5.        ]\n"
     ]
    }
   ],
   "source": [
    "x=np.linspace(-10,5,10)\n",
    "print(x)"
   ]
  },
  {
   "cell_type": "code",
   "execution_count": 21,
   "id": "0207763f",
   "metadata": {},
   "outputs": [
    {
     "name": "stdout",
     "output_type": "stream",
     "text": [
      "[100.          69.44444444  44.44444444  25.          11.11111111\n",
      "   2.77777778   0.           2.77777778  11.11111111  25.        ]\n"
     ]
    }
   ],
   "source": [
    "y=x**2\n",
    "print(y)"
   ]
  },
  {
   "cell_type": "code",
   "execution_count": 22,
   "id": "8866149c",
   "metadata": {},
   "outputs": [
    {
     "name": "stdout",
     "output_type": "stream",
     "text": [
      "[10.          8.33333333  6.66666667  5.          3.33333333  1.66666667\n",
      "  0.          1.66666667  3.33333333  5.        ]\n"
     ]
    }
   ],
   "source": [
    "x=np.sqrt(y)\n",
    "print(x)"
   ]
  },
  {
   "cell_type": "code",
   "execution_count": 24,
   "id": "0fdfa12d",
   "metadata": {},
   "outputs": [
    {
     "name": "stdout",
     "output_type": "stream",
     "text": [
      "[110.          77.77777778  51.11111111  30.          14.44444444\n",
      "   4.44444444   0.           4.44444444  14.44444444  30.        ]\n"
     ]
    }
   ],
   "source": [
    "v=x+y     # adding array element wise\n",
    "print(v)"
   ]
  },
  {
   "cell_type": "code",
   "execution_count": 25,
   "id": "d7067fc4",
   "metadata": {},
   "outputs": [
    {
     "name": "stdout",
     "output_type": "stream",
     "text": [
      "[1000.          578.7037037   296.2962963   125.           37.03703704\n",
      "    4.62962963    0.            4.62962963   37.03703704  125.        ]\n"
     ]
    }
   ],
   "source": [
    "w=x*y\n",
    "print(w)"
   ]
  },
  {
   "cell_type": "code",
   "execution_count": 26,
   "id": "40a4eb7c",
   "metadata": {},
   "outputs": [
    {
     "name": "stdout",
     "output_type": "stream",
     "text": [
      "[0.1  0.12 0.15 0.2  0.3  0.6   nan 0.6  0.3  0.2 ]\n"
     ]
    },
    {
     "name": "stderr",
     "output_type": "stream",
     "text": [
      "C:\\Users\\Dee\\AppData\\Local\\Temp/ipykernel_10620/3202974670.py:1: RuntimeWarning: invalid value encountered in true_divide\n",
      "  z=x/y\n"
     ]
    }
   ],
   "source": [
    "z=x/y\n",
    "print(z)"
   ]
  },
  {
   "cell_type": "code",
   "execution_count": null,
   "id": "e92fe5ff",
   "metadata": {},
   "outputs": [],
   "source": []
  }
 ],
 "metadata": {
  "kernelspec": {
   "display_name": "Python 3 (ipykernel)",
   "language": "python",
   "name": "python3"
  },
  "language_info": {
   "codemirror_mode": {
    "name": "ipython",
    "version": 3
   },
   "file_extension": ".py",
   "mimetype": "text/x-python",
   "name": "python",
   "nbconvert_exporter": "python",
   "pygments_lexer": "ipython3",
   "version": "3.9.7"
  }
 },
 "nbformat": 4,
 "nbformat_minor": 5
}
