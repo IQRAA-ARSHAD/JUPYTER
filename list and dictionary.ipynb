{
 "cells": [
  {
   "cell_type": "code",
   "execution_count": null,
   "id": "b3920336",
   "metadata": {},
   "outputs": [],
   "source": [
    "fruits['apple','bnana','mango']"
   ]
  },
  {
   "cell_type": "code",
   "execution_count": 12,
   "id": "65a89cb4",
   "metadata": {},
   "outputs": [
    {
     "data": {
      "text/plain": [
       "['apple', 'bnana', 'mango']"
      ]
     },
     "execution_count": 12,
     "metadata": {},
     "output_type": "execute_result"
    }
   ],
   "source": [
    "fruits   "
   ]
  },
  {
   "cell_type": "code",
   "execution_count": 14,
   "id": "0041e501",
   "metadata": {},
   "outputs": [
    {
     "data": {
      "text/plain": [
       "3"
      ]
     },
     "execution_count": 14,
     "metadata": {},
     "output_type": "execute_result"
    }
   ],
   "source": [
    "len(fruits)      # to find length of list"
   ]
  },
  {
   "cell_type": "code",
   "execution_count": 17,
   "id": "7ccd8ea7",
   "metadata": {},
   "outputs": [
    {
     "data": {
      "text/plain": [
       "0"
      ]
     },
     "execution_count": 17,
     "metadata": {},
     "output_type": "execute_result"
    }
   ],
   "source": [
    "fruits.index('apple')      #to check positon of apple"
   ]
  },
  {
   "cell_type": "code",
   "execution_count": 20,
   "id": "882e816f",
   "metadata": {},
   "outputs": [],
   "source": [
    "fruits.append('stawberry')     #to add element in list"
   ]
  },
  {
   "cell_type": "code",
   "execution_count": 50,
   "id": "7ec571ed",
   "metadata": {},
   "outputs": [
    {
     "data": {
      "text/plain": [
       "['apple', 'bnana', 'mango', 'stawberry', 'my favourite fruit']"
      ]
     },
     "execution_count": 50,
     "metadata": {},
     "output_type": "execute_result"
    }
   ],
   "source": [
    "fruits"
   ]
  },
  {
   "cell_type": "code",
   "execution_count": 51,
   "id": "02b7c030",
   "metadata": {},
   "outputs": [
    {
     "data": {
      "text/plain": [
       "'mango'"
      ]
     },
     "execution_count": 51,
     "metadata": {},
     "output_type": "execute_result"
    }
   ],
   "source": [
    "fruits[2]    #checking which element is at position 2"
   ]
  },
  {
   "cell_type": "code",
   "execution_count": 52,
   "id": "3de45d28",
   "metadata": {},
   "outputs": [
    {
     "data": {
      "text/plain": [
       "['apple']"
      ]
     },
     "execution_count": 52,
     "metadata": {},
     "output_type": "execute_result"
    }
   ],
   "source": [
    "fruits[0:1]  #to print element from 0 to 1 excluding 1"
   ]
  },
  {
   "cell_type": "code",
   "execution_count": 56,
   "id": "0ea0ca3b",
   "metadata": {},
   "outputs": [
    {
     "data": {
      "text/plain": [
       "['apple', 'bnana']"
      ]
     },
     "execution_count": 56,
     "metadata": {},
     "output_type": "execute_result"
    }
   ],
   "source": [
    "fruits[0:2]"
   ]
  },
  {
   "cell_type": "code",
   "execution_count": 57,
   "id": "edbfdbd5",
   "metadata": {},
   "outputs": [],
   "source": [
    "d={'fav': 'mellon','dislike':'kiwi'}    # to make dictinoary"
   ]
  },
  {
   "cell_type": "code",
   "execution_count": 58,
   "id": "bafe59b3",
   "metadata": {},
   "outputs": [
    {
     "data": {
      "text/plain": [
       "{'fav': 'mellon', 'dislike': 'kiwi'}"
      ]
     },
     "execution_count": 58,
     "metadata": {},
     "output_type": "execute_result"
    }
   ],
   "source": [
    "d"
   ]
  },
  {
   "cell_type": "code",
   "execution_count": 59,
   "id": "f2ca367c",
   "metadata": {},
   "outputs": [
    {
     "data": {
      "text/plain": [
       "'mellon'"
      ]
     },
     "execution_count": 59,
     "metadata": {},
     "output_type": "execute_result"
    }
   ],
   "source": [
    "d['fav']          # to print charcteristics of fav from dictionary"
   ]
  },
  {
   "cell_type": "code",
   "execution_count": 60,
   "id": "be2694fa",
   "metadata": {},
   "outputs": [],
   "source": [
    "fruits.append(d['fav']) # to add charcteristics of fav from dictionary into list which is fruit"
   ]
  },
  {
   "cell_type": "code",
   "execution_count": 61,
   "id": "69d277f4",
   "metadata": {},
   "outputs": [
    {
     "data": {
      "text/plain": [
       "['apple', 'bnana', 'mango', 'stawberry', 'my favourite fruit', 'mellon']"
      ]
     },
     "execution_count": 61,
     "metadata": {},
     "output_type": "execute_result"
    }
   ],
   "source": [
    "fruits"
   ]
  },
  {
   "cell_type": "code",
   "execution_count": null,
   "id": "ccf20708",
   "metadata": {},
   "outputs": [],
   "source": []
  }
 ],
 "metadata": {
  "kernelspec": {
   "display_name": "Python 3 (ipykernel)",
   "language": "python",
   "name": "python3"
  },
  "language_info": {
   "codemirror_mode": {
    "name": "ipython",
    "version": 3
   },
   "file_extension": ".py",
   "mimetype": "text/x-python",
   "name": "python",
   "nbconvert_exporter": "python",
   "pygments_lexer": "ipython3",
   "version": "3.9.7"
  }
 },
 "nbformat": 4,
 "nbformat_minor": 5
}
